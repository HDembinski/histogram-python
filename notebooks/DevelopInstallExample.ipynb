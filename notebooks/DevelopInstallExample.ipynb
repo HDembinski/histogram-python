{
 "cells": [
  {
   "cell_type": "code",
   "execution_count": 1,
   "metadata": {},
   "outputs": [
    {
     "name": "stdout",
     "output_type": "stream",
     "text": [
      "Collecting git+https://github.com/scikit-hep/boost-histogram.git@develop\n",
      "  Cloning https://github.com/scikit-hep/boost-histogram.git (to develop) to /tmp/pip-9rzao8fu-build\n",
      "\bdone\n",
      "\u001b[?25hSuccessfully installed histogram-0.0.1\n",
      "\u001b[33mYou are using pip version 10.0.1, however version 19.0.3 is available.\n",
      "You should consider upgrading via the 'pip install --upgrade pip' command.\u001b[0m\n"
     ]
    }
   ],
   "source": [
    "!python -m pip install --user --upgrade git+https://github.com/scikit-hep/boost-histogram.git@develop"
   ]
  },
  {
   "cell_type": "code",
   "execution_count": 1,
   "metadata": {},
   "outputs": [],
   "source": [
    "import boost.histogram as bh\n",
    "import numpy as np"
   ]
  },
  {
   "cell_type": "code",
   "execution_count": 2,
   "metadata": {},
   "outputs": [],
   "source": [
    "vals = np.random.normal(size=(2,1000000))"
   ]
  },
  {
   "cell_type": "code",
   "execution_count": 3,
   "metadata": {},
   "outputs": [
    {
     "data": {
      "text/plain": [
       "histogram(\n",
       "  regular_sqrt(10, 0, 10, metadata=\"x\", options=underflow | overflow),\n",
       "  regular(10, 0, 1, metadata=\"y\", options=overflow | circular)\n",
       ")"
      ]
     },
     "execution_count": 3,
     "metadata": {},
     "output_type": "execute_result"
    }
   ],
   "source": [
    "hist = bh.histogram(bh.axis.regular_sqrt(10,0,10, label='x'),\n",
    "                    bh.axis.circular(10,0,1, label='y'))\n",
    "hist"
   ]
  },
  {
   "cell_type": "markdown",
   "metadata": {},
   "source": [
    "This fills the histogram"
   ]
  },
  {
   "cell_type": "code",
   "execution_count": 4,
   "metadata": {},
   "outputs": [],
   "source": [
    "hist(*vals)"
   ]
  },
  {
   "cell_type": "markdown",
   "metadata": {},
   "source": [
    "Let's just take a quick look at the bin contents:"
   ]
  },
  {
   "cell_type": "code",
   "execution_count": 5,
   "metadata": {},
   "outputs": [
    {
     "name": "stdout",
     "output_type": "stream",
     "text": [
      "[[    0     0     0     0     0     0     0     0     0     0     0]\n",
      " [ 4014  3980  3931  3914  4028  3972  4025  3954  4068  3951     0]\n",
      " [11714 11389 11495 11651 11719 11520 11664 11486 11620 11633     0]\n",
      " [15926 16014 15930 15878 15989 16014 16127 16076 15926 16047     0]\n",
      " [12934 12753 12829 13103 12898 13067 12964 12852 12953 12673     0]\n",
      " [ 4909  4775  4915  4960  4905  4960  4869  4848  4867  4846     0]\n",
      " [  600   640   582   611   606   584   649   613   596   586     0]\n",
      " [   14    11    16    17    16    16     6    17    17    15     0]\n",
      " [    0     0     0     0     0     0     0     0     0     0     0]\n",
      " [    0     0     0     0     0     0     0     0     0     0     0]\n",
      " [    0     0     0     0     0     0     0     0     0     0     0]\n",
      " [49960 50023 49971 49852 50216 49907 49959 50017 50192 50156     0]]\n"
     ]
    }
   ],
   "source": [
    "print(np.asarray(hist))"
   ]
  }
 ],
 "metadata": {
  "kernelspec": {
   "display_name": "Python 3",
   "language": "python",
   "name": "python3"
  },
  "language_info": {
   "codemirror_mode": {
    "name": "ipython",
    "version": 3
   },
   "file_extension": ".py",
   "mimetype": "text/x-python",
   "name": "python",
   "nbconvert_exporter": "python",
   "pygments_lexer": "ipython3",
   "version": "3.7.4"
  }
 },
 "nbformat": 4,
 "nbformat_minor": 4
}
