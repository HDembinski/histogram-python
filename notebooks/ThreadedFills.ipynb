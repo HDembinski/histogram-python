{
 "cells": [
  {
   "cell_type": "code",
   "execution_count": 1,
   "metadata": {},
   "outputs": [],
   "source": [
    "import numpy as np\n",
    "import boost_histogram as bh\n",
    "from concurrent.futures import ThreadPoolExecutor\n",
    "from functools import reduce\n",
    "from operator import add"
   ]
  },
  {
   "cell_type": "markdown",
   "metadata": {},
   "source": [
    "This notebook experiments with parallel filling."
   ]
  },
  {
   "cell_type": "code",
   "execution_count": 2,
   "metadata": {},
   "outputs": [
    {
     "name": "stdout",
     "output_type": "stream",
     "text": [
      "hist_linear: <class 'histogram.hist.regular_int_1d'>\n",
      "hist_atomic: <class 'histogram.hist.regular_int_atomic_1d'>\n"
     ]
    }
   ],
   "source": [
    "hist_linear = bh.histogram(bh.axis.regular(1000,0,1))\n",
    "hist_badlin = bh.histogram(bh.axis.regular(1000,0,1))\n",
    "hist_ltomic = bh.histogram(bh.axis.regular(1000,0,1),\n",
    "                          storage=bh.storage.AtomicInt())\n",
    "hist_atomic = bh.histogram(bh.axis.regular(1000,0,1),\n",
    "                                storage=bh.storage.AtomicInt())\n",
    "\n",
    "print('hist_linear:', type(hist_linear))\n",
    "print('hist_atomic:', type(hist_atomic))\n",
    "\n",
    "vals = np.random.rand(1_000_000)"
   ]
  },
  {
   "cell_type": "markdown",
   "metadata": {},
   "source": [
    "This is a traditional fill."
   ]
  },
  {
   "cell_type": "code",
   "execution_count": 3,
   "metadata": {},
   "outputs": [
    {
     "name": "stdout",
     "output_type": "stream",
     "text": [
      "CPU times: user 284 ms, sys: 3.85 ms, total: 288 ms\n",
      "Wall time: 295 ms\n"
     ]
    }
   ],
   "source": [
    "%%time\n",
    "hist_linear(vals)"
   ]
  },
  {
   "cell_type": "markdown",
   "metadata": {},
   "source": [
    "This is a single threaded atomic fill."
   ]
  },
  {
   "cell_type": "code",
   "execution_count": 4,
   "metadata": {},
   "outputs": [
    {
     "name": "stdout",
     "output_type": "stream",
     "text": [
      "CPU times: user 290 ms, sys: 4.76 ms, total: 295 ms\n",
      "Wall time: 301 ms\n"
     ]
    }
   ],
   "source": [
    "%%time\n",
    "hist_ltomic(vals)"
   ]
  },
  {
   "cell_type": "markdown",
   "metadata": {},
   "source": [
    "This is a threaded fill (storage not threadsafe, so will get the wrong result; just for comparison)"
   ]
  },
  {
   "cell_type": "code",
   "execution_count": 5,
   "metadata": {},
   "outputs": [
    {
     "name": "stdout",
     "output_type": "stream",
     "text": [
      "CPU times: user 505 ms, sys: 4.76 ms, total: 509 ms\n",
      "Wall time: 148 ms\n"
     ]
    }
   ],
   "source": [
    "%%time\n",
    "with ThreadPoolExecutor(4) as pool:\n",
    "    for i in range(4):\n",
    "        v = pool.submit(hist_badlin, vals[i*250_000:(i+1)*250_000])"
   ]
  },
  {
   "cell_type": "code",
   "execution_count": 6,
   "metadata": {},
   "outputs": [
    {
     "name": "stdout",
     "output_type": "stream",
     "text": [
      "[ True  True False ...  True  True  True] False\n"
     ]
    }
   ],
   "source": [
    "compare = np.asarray(hist_linear) == np.asarray(hist_badlin)\n",
    "print(compare, np.all(compare))"
   ]
  },
  {
   "cell_type": "markdown",
   "metadata": {},
   "source": [
    "This is a threaded fill, this time with atomics"
   ]
  },
  {
   "cell_type": "code",
   "execution_count": 7,
   "metadata": {},
   "outputs": [
    {
     "name": "stdout",
     "output_type": "stream",
     "text": [
      "CPU times: user 511 ms, sys: 4.91 ms, total: 516 ms\n",
      "Wall time: 154 ms\n"
     ]
    }
   ],
   "source": [
    "%%time\n",
    "with ThreadPoolExecutor(4) as pool:\n",
    "    for i in range(4):\n",
    "        pool.submit(hist_atomic, vals[i*250_000:(i+1)*250_000])"
   ]
  },
  {
   "cell_type": "code",
   "execution_count": 8,
   "metadata": {},
   "outputs": [
    {
     "name": "stdout",
     "output_type": "stream",
     "text": [
      "[ True  True  True ...  True  True  True] True\n"
     ]
    }
   ],
   "source": [
    "compare = np.asarray(hist_linear) == np.asarray(hist_atomic)\n",
    "print(compare, np.all(compare))"
   ]
  },
  {
   "cell_type": "markdown",
   "metadata": {},
   "source": [
    "This makes four seperate histograms, then fills them and adds at the end."
   ]
  },
  {
   "cell_type": "code",
   "execution_count": 9,
   "metadata": {},
   "outputs": [],
   "source": [
    "def fun(x):\n",
    "    hist = bh.histogram(bh.axis.regular(1000,0,1))\n",
    "    hist(x)\n",
    "    return hist"
   ]
  },
  {
   "cell_type": "code",
   "execution_count": 10,
   "metadata": {},
   "outputs": [
    {
     "name": "stdout",
     "output_type": "stream",
     "text": [
      "CPU times: user 1.99 s, sys: 15.6 ms, total: 2.01 s\n",
      "Wall time: 599 ms\n"
     ]
    }
   ],
   "source": [
    "%%time\n",
    "with ThreadPoolExecutor(4) as pool:\n",
    "    for i in range(4):\n",
    "        results = pool.map(fun, (vals[i*250_000:(i+1)*250_000] for i in range(4)))"
   ]
  },
  {
   "cell_type": "code",
   "execution_count": 11,
   "metadata": {},
   "outputs": [],
   "source": [
    "hist_quad = reduce(add, results)"
   ]
  },
  {
   "cell_type": "code",
   "execution_count": 12,
   "metadata": {},
   "outputs": [
    {
     "name": "stdout",
     "output_type": "stream",
     "text": [
      "[ True  True  True ...  True  True  True] True\n"
     ]
    }
   ],
   "source": [
    "compare = np.asarray(hist_linear) == np.asarray(hist_quad)\n",
    "print(compare, np.all(compare))"
   ]
  },
  {
   "cell_type": "code",
   "execution_count": null,
   "metadata": {},
   "outputs": [],
   "source": []
  }
 ],
 "metadata": {
  "kernelspec": {
   "display_name": "Python 3",
   "language": "python",
   "name": "python3"
  },
  "language_info": {
   "codemirror_mode": {
    "name": "ipython",
    "version": 3
   },
   "file_extension": ".py",
   "mimetype": "text/x-python",
   "name": "python",
   "nbconvert_exporter": "python",
   "pygments_lexer": "ipython3",
   "version": "3.7.4"
  }
 },
 "nbformat": 4,
 "nbformat_minor": 4
}
