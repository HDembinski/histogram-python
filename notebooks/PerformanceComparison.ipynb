{
 "cells": [
  {
   "cell_type": "code",
   "execution_count": null,
   "metadata": {},
   "outputs": [],
   "source": [
    "import histogram as bh\n",
    "import numpy as np"
   ]
  },
  {
   "cell_type": "markdown",
   "metadata": {},
   "source": [
    "### Testing setup\n",
    "\n",
    "This is just a simple 1D and 2D dataset to use for performance runs"
   ]
  },
  {
   "cell_type": "code",
   "execution_count": 3,
   "metadata": {},
   "outputs": [],
   "source": [
    "bins=(100, 100)\n",
    "ranges=((-1,1),(-1,1))\n",
    "bins = np.asarray(bins).astype(np.int64)\n",
    "ranges = np.asarray(ranges).astype(np.float64)\n",
    "    \n",
    "edges = (np.linspace(*ranges[0,:], bins[0]+1),\n",
    "         np.linspace(*ranges[1,:], bins[1]+1))"
   ]
  },
  {
   "cell_type": "code",
   "execution_count": 4,
   "metadata": {},
   "outputs": [],
   "source": [
    "np.random.seed(42)\n",
    "vals = np.random.normal(size=[2, 1_000_000]).astype(np.float32)\n",
    "vals1d = np.random.normal(size=[10_000_000]).astype(np.float32)"
   ]
  },
  {
   "cell_type": "markdown",
   "metadata": {},
   "source": [
    "#### Traditional 1D Numpy Histogram\n",
    "\n",
    "This is reasonably optimized; it should provide good perforance."
   ]
  },
  {
   "cell_type": "code",
   "execution_count": 6,
   "metadata": {},
   "outputs": [
    {
     "name": "stdout",
     "output_type": "stream",
     "text": [
      "152 ms ± 4.2 ms per loop (mean ± std. dev. of 7 runs, 10 loops each)\n"
     ]
    }
   ],
   "source": [
    "%%timeit\n",
    "h, _ = np.histogram(vals1d, bins=bins[0], range=ranges[0])"
   ]
  },
  {
   "cell_type": "code",
   "execution_count": 22,
   "metadata": {},
   "outputs": [
    {
     "data": {
      "text/plain": [
       "array([49139, 49761, 50805, 51651, 52915, 53467, 54582, 55463, 56731,\n",
       "       57515, 58204, 59331, 60454, 61279, 61484, 63097, 63870, 64696,\n",
       "       65378, 66135, 66613, 68022, 68356, 69019, 70288, 70713, 71097,\n",
       "       72622, 72585, 73233, 73779, 74213, 74787, 75335, 75858, 76667,\n",
       "       77048, 76647, 77833, 78253, 78345, 78266, 78985, 79224, 79101,\n",
       "       79834, 79703, 80245, 79816, 79830, 79760, 79438, 79972, 79972,\n",
       "       79466, 79343, 78753, 78487, 78659, 78400, 78090, 77723, 76940,\n",
       "       76995, 76693, 75812, 75232, 75182, 75009, 74176, 73549, 72582,\n",
       "       72038, 71691, 70884, 70175, 69502, 68426, 67972, 67464, 66436,\n",
       "       65355, 64569, 63118, 63364, 62000, 61065, 59846, 59184, 58408,\n",
       "       57381, 56651, 55795, 54707, 54081, 53015, 51995, 51000, 49697,\n",
       "       48852])"
      ]
     },
     "execution_count": 22,
     "metadata": {},
     "output_type": "execute_result"
    }
   ],
   "source": [
    "h, e = np.histogram(vals1d, bins=bins[0], range=ranges[0])\n",
    "h"
   ]
  },
  {
   "cell_type": "markdown",
   "metadata": {},
   "source": [
    "#### Boost histogram in 1D: Axis vector"
   ]
  },
  {
   "cell_type": "code",
   "execution_count": 24,
   "metadata": {},
   "outputs": [
    {
     "name": "stdout",
     "output_type": "stream",
     "text": [
      "119 ms ± 1.79 ms per loop (mean ± std. dev. of 7 runs, 10 loops each)\n"
     ]
    }
   ],
   "source": [
    "%%timeit\n",
    "hist = bh.dense_int_histogram(bh.axis.regular_axes([bh.axis.regular(bins[0], *ranges[0])]))\n",
    "hist.fill(vals1d)"
   ]
  },
  {
   "cell_type": "code",
   "execution_count": 25,
   "metadata": {},
   "outputs": [
    {
     "data": {
      "text/plain": [
       "array([49139, 49761, 50805, 51651, 52915, 53467, 54582, 55463, 56731,\n",
       "       57515, 58204, 59331, 60454, 61279, 61484, 63097, 63870, 64696,\n",
       "       65378, 66135, 66613, 68022, 68356, 69019, 70288, 70713, 71097,\n",
       "       72622, 72585, 73233, 73779, 74213, 74787, 75335, 75858, 76667,\n",
       "       77048, 76647, 77833, 78253, 78345, 78266, 78985, 79224, 79101,\n",
       "       79834, 79703, 80245, 79816, 79830, 79760, 79438, 79972, 79972,\n",
       "       79466, 79343, 78753, 78487, 78659, 78400, 78090, 77723, 76940,\n",
       "       76995, 76693, 75812, 75232, 75182, 75009, 74176, 73549, 72582,\n",
       "       72038, 71691, 70884, 70175, 69502, 68426, 67972, 67464, 66436,\n",
       "       65355, 64569, 63118, 63364, 62000, 61065, 59846, 59184, 58408,\n",
       "       57381, 56651, 55795, 54707, 54081, 53015, 51995, 51000, 49697,\n",
       "       48852])"
      ]
     },
     "execution_count": 25,
     "metadata": {},
     "output_type": "execute_result"
    }
   ],
   "source": [
    "hist = bh.dense_int_histogram(bh.axis.regular_axes([bh.axis.regular(bins[0], *ranges[0])]))\n",
    "hist.fill(vals1d)\n",
    "np.array([hist.at(i) for i in range(100)])"
   ]
  },
  {
   "cell_type": "markdown",
   "metadata": {},
   "source": [
    "#### Boost histogram in 1D: Dense Tuple"
   ]
  },
  {
   "cell_type": "code",
   "execution_count": 26,
   "metadata": {},
   "outputs": [
    {
     "name": "stdout",
     "output_type": "stream",
     "text": [
      "89.3 ms ± 4.09 ms per loop (mean ± std. dev. of 7 runs, 10 loops each)\n"
     ]
    }
   ],
   "source": [
    "%%timeit\n",
    "hist = bh.int_1d_histogram((bh.axis.regular(bins[0], *ranges[0]),))\n",
    "hist.fill(vals1d)"
   ]
  },
  {
   "cell_type": "code",
   "execution_count": 27,
   "metadata": {},
   "outputs": [
    {
     "data": {
      "text/plain": [
       "array([49139, 49761, 50805, 51651, 52915, 53467, 54582, 55463, 56731,\n",
       "       57515, 58204, 59331, 60454, 61279, 61484, 63097, 63870, 64696,\n",
       "       65378, 66135, 66613, 68022, 68356, 69019, 70288, 70713, 71097,\n",
       "       72622, 72585, 73233, 73779, 74213, 74787, 75335, 75858, 76667,\n",
       "       77048, 76647, 77833, 78253, 78345, 78266, 78985, 79224, 79101,\n",
       "       79834, 79703, 80245, 79816, 79830, 79760, 79438, 79972, 79972,\n",
       "       79466, 79343, 78753, 78487, 78659, 78400, 78090, 77723, 76940,\n",
       "       76995, 76693, 75812, 75232, 75182, 75009, 74176, 73549, 72582,\n",
       "       72038, 71691, 70884, 70175, 69502, 68426, 67972, 67464, 66436,\n",
       "       65355, 64569, 63118, 63364, 62000, 61065, 59846, 59184, 58408,\n",
       "       57381, 56651, 55795, 54707, 54081, 53015, 51995, 51000, 49697,\n",
       "       48852])"
      ]
     },
     "execution_count": 27,
     "metadata": {},
     "output_type": "execute_result"
    }
   ],
   "source": [
    "hist = bh.int_1d_histogram((bh.axis.regular(bins[0], *ranges[0]),))\n",
    "hist.fill(vals1d)\n",
    "np.array([hist.at(i) for i in range(100)])"
   ]
  },
  {
   "cell_type": "markdown",
   "metadata": {},
   "source": [
    "---"
   ]
  },
  {
   "cell_type": "markdown",
   "metadata": {},
   "source": [
    "#### Traditional 2D Numpy histogram\n",
    "\n",
    "Not as well optimized for regular filling."
   ]
  },
  {
   "cell_type": "code",
   "execution_count": 37,
   "metadata": {},
   "outputs": [
    {
     "name": "stdout",
     "output_type": "stream",
     "text": [
      "115 ms ± 458 µs per loop (mean ± std. dev. of 7 runs, 10 loops each)\n"
     ]
    }
   ],
   "source": [
    "%%timeit\n",
    "H, *ledges = np.histogram2d(*vals, bins=bins, range=ranges)"
   ]
  },
  {
   "cell_type": "code",
   "execution_count": 29,
   "metadata": {},
   "outputs": [
    {
     "data": {
      "text/plain": [
       "23.0"
      ]
     },
     "execution_count": 29,
     "metadata": {},
     "output_type": "execute_result"
    }
   ],
   "source": [
    "np.histogram2d(*vals, bins=bins, range=ranges)[0][0,0]"
   ]
  },
  {
   "cell_type": "markdown",
   "metadata": {},
   "source": [
    "#### Boost histogram in 2D: Axis vector"
   ]
  },
  {
   "cell_type": "code",
   "execution_count": 32,
   "metadata": {},
   "outputs": [
    {
     "name": "stdout",
     "output_type": "stream",
     "text": [
      "22.3 ms ± 660 µs per loop (mean ± std. dev. of 7 runs, 10 loops each)\n"
     ]
    }
   ],
   "source": [
    "%%timeit\n",
    "hist = bh.dense_int_histogram(bh.axis.regular_axes([bh.axis.regular(bins[0], *ranges[0]),\n",
    "                                                    bh.axis.regular(bins[1], *ranges[1])]))\n",
    "hist.fill(vals)"
   ]
  },
  {
   "cell_type": "code",
   "execution_count": 35,
   "metadata": {},
   "outputs": [
    {
     "data": {
      "text/plain": [
       "23"
      ]
     },
     "execution_count": 35,
     "metadata": {},
     "output_type": "execute_result"
    }
   ],
   "source": [
    "hist = bh.dense_int_histogram(bh.axis.regular_axes([bh.axis.regular(bins[0], *ranges[0]),\n",
    "                                                    bh.axis.regular(bins[1], *ranges[1])]))\n",
    "hist.fill(vals)\n",
    "hist.at(0,0)"
   ]
  },
  {
   "cell_type": "markdown",
   "metadata": {},
   "source": [
    "#### Boost histogram in 2D: Axis Tuple"
   ]
  },
  {
   "cell_type": "code",
   "execution_count": 36,
   "metadata": {},
   "outputs": [
    {
     "name": "stdout",
     "output_type": "stream",
     "text": [
      "17.3 ms ± 82.9 µs per loop (mean ± std. dev. of 7 runs, 100 loops each)\n"
     ]
    }
   ],
   "source": [
    "%%timeit\n",
    "hist = bh.int_2d_histogram((bh.axis.regular(bins[0], *ranges[0]),\n",
    "                            bh.axis.regular(bins[1], *ranges[1])))\n",
    "hist.fill(vals)"
   ]
  },
  {
   "cell_type": "code",
   "execution_count": 38,
   "metadata": {},
   "outputs": [
    {
     "data": {
      "text/plain": [
       "23"
      ]
     },
     "execution_count": 38,
     "metadata": {},
     "output_type": "execute_result"
    }
   ],
   "source": [
    "hist = bh.int_2d_histogram((bh.axis.regular(bins[0], *ranges[0]),\n",
    "                            bh.axis.regular(bins[1], *ranges[1])))\n",
    "hist.fill(vals)\n",
    "hist.at(0,0)"
   ]
  }
 ],
 "metadata": {
  "kernelspec": {
   "display_name": "Python 3",
   "language": "python",
   "name": "python3"
  },
  "language_info": {
   "codemirror_mode": {
    "name": "ipython",
    "version": 3
   },
   "file_extension": ".py",
   "mimetype": "text/x-python",
   "name": "python",
   "nbconvert_exporter": "python",
   "pygments_lexer": "ipython3",
   "version": "3.7.2"
  }
 },
 "nbformat": 4,
 "nbformat_minor": 2
}
