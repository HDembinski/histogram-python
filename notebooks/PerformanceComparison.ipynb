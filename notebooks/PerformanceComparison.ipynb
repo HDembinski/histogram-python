{
 "cells": [
  {
   "cell_type": "code",
   "execution_count": 1,
   "metadata": {},
   "outputs": [],
   "source": [
    "import histogram as bh\n",
    "import numpy as np"
   ]
  },
  {
   "cell_type": "markdown",
   "metadata": {},
   "source": [
    "### Testing setup\n",
    "\n",
    "This is just a simple 1D and 2D dataset to use for performance runs. The testing setup is the same as \"MBP\" in [this post](https://iscinumpy.gitlab.io/post/histogram-speeds-in-python/)."
   ]
  },
  {
   "cell_type": "code",
   "execution_count": 2,
   "metadata": {},
   "outputs": [],
   "source": [
    "bins=(100, 100)\n",
    "ranges=((-1,1),(-1,1))\n",
    "bins = np.asarray(bins).astype(np.int64)\n",
    "ranges = np.asarray(ranges).astype(np.float64)\n",
    "    \n",
    "edges = (np.linspace(*ranges[0,:], bins[0]+1),\n",
    "         np.linspace(*ranges[1,:], bins[1]+1))"
   ]
  },
  {
   "cell_type": "code",
   "execution_count": 3,
   "metadata": {},
   "outputs": [],
   "source": [
    "np.random.seed(42)\n",
    "vals = np.random.normal(size=[2, 1_000_000]).astype(np.float32)\n",
    "vals1d = np.random.normal(size=[10_000_000]).astype(np.float32)"
   ]
  },
  {
   "cell_type": "markdown",
   "metadata": {},
   "source": [
    "#### Traditional 1D Numpy Histogram\n",
    "\n",
    "This is reasonably optimized; it should provide good perforance."
   ]
  },
  {
   "cell_type": "code",
   "execution_count": 4,
   "metadata": {},
   "outputs": [
    {
     "name": "stdout",
     "output_type": "stream",
     "text": [
      "148 ms ± 1.55 ms per loop (mean ± std. dev. of 7 runs, 10 loops each)\n"
     ]
    }
   ],
   "source": [
    "%%timeit\n",
    "h, _ = np.histogram(vals1d, bins=bins[0], range=ranges[0])"
   ]
  },
  {
   "cell_type": "code",
   "execution_count": 5,
   "metadata": {},
   "outputs": [
    {
     "data": {
      "text/plain": [
       "array([49139, 49761, 50805, 51651, 52915, 53467, 54582, 55463, 56731,\n",
       "       57515, 58204, 59331, 60454, 61279, 61484, 63097, 63870, 64696,\n",
       "       65378, 66135, 66613, 68022, 68356, 69019, 70288, 70713, 71097,\n",
       "       72622, 72585, 73233, 73779, 74213, 74787, 75335, 75858, 76667,\n",
       "       77048, 76647, 77833, 78253, 78345, 78266, 78985, 79224, 79101,\n",
       "       79834, 79703, 80245, 79816, 79830, 79760, 79438, 79972, 79972,\n",
       "       79466, 79343, 78753, 78487, 78659, 78400, 78090, 77723, 76940,\n",
       "       76995, 76693, 75812, 75232, 75182, 75009, 74176, 73549, 72582,\n",
       "       72038, 71691, 70884, 70175, 69502, 68426, 67972, 67464, 66436,\n",
       "       65355, 64569, 63118, 63364, 62000, 61065, 59846, 59184, 58408,\n",
       "       57381, 56651, 55795, 54707, 54081, 53015, 51995, 51000, 49697,\n",
       "       48852])"
      ]
     },
     "execution_count": 5,
     "metadata": {},
     "output_type": "execute_result"
    }
   ],
   "source": [
    "h, e = np.histogram(vals1d, bins=bins[0], range=ranges[0])\n",
    "h"
   ]
  },
  {
   "cell_type": "markdown",
   "metadata": {},
   "source": [
    "#### Boost histogram: General vector\n",
    "\n",
    "This can take any axis type"
   ]
  },
  {
   "cell_type": "code",
   "execution_count": 6,
   "metadata": {},
   "outputs": [
    {
     "name": "stdout",
     "output_type": "stream",
     "text": [
      "164 ms ± 4.63 ms per loop (mean ± std. dev. of 7 runs, 10 loops each)\n"
     ]
    }
   ],
   "source": [
    "%%timeit\n",
    "hist = bh.hist.any_int([bh.axis.regular(bins[0], *ranges[0])])\n",
    "hist(vals1d)"
   ]
  },
  {
   "cell_type": "code",
   "execution_count": 7,
   "metadata": {},
   "outputs": [
    {
     "data": {
      "text/plain": [
       "array([1587613,   49139,   49761,   50805,   51651,   52915,   53467,\n",
       "         54582,   55463,   56731,   57515,   58204,   59331,   60454,\n",
       "         61279,   61484,   63097,   63870,   64696,   65378,   66135,\n",
       "         66613,   68022,   68356,   69019,   70288,   70713,   71097,\n",
       "         72622,   72585,   73233,   73779,   74213,   74787,   75335,\n",
       "         75858,   76667,   77048,   76647,   77833,   78253,   78345,\n",
       "         78266,   78985,   79224,   79101,   79834,   79703,   80245,\n",
       "         79816,   79830,   79760,   79438,   79972,   79972,   79466,\n",
       "         79343,   78753,   78487,   78659,   78400,   78090,   77723,\n",
       "         76940,   76995,   76693,   75812,   75232,   75182,   75009,\n",
       "         74176,   73549,   72582,   72038,   71691,   70884,   70175,\n",
       "         69502,   68426,   67972,   67464,   66436,   65355,   64569,\n",
       "         63118,   63364,   62000,   61065,   59846,   59184,   58408,\n",
       "         57381,   56651,   55795,   54707,   54081,   53015,   51995,\n",
       "         51000,   49697,   48852, 1585209], dtype=uint64)"
      ]
     },
     "execution_count": 7,
     "metadata": {},
     "output_type": "execute_result"
    }
   ],
   "source": [
    "hist = bh.hist.regular_int([bh.axis.regular(bins[0], *ranges[0])])\n",
    "hist(vals1d)\n",
    "np.asarray(hist)"
   ]
  },
  {
   "cell_type": "code",
   "execution_count": 8,
   "metadata": {},
   "outputs": [
    {
     "data": {
      "text/plain": [
       "array([1587613,   49139,   49761,   50805,   51651,   52915,   53467,\n",
       "         54582,   55463,   56731,   57515,   58204,   59331,   60454,\n",
       "         61279,   61484,   63097,   63870,   64696,   65378,   66135,\n",
       "         66613,   68022,   68356,   69019,   70288,   70713,   71097,\n",
       "         72622,   72585,   73233,   73779,   74213,   74787,   75335,\n",
       "         75858,   76667,   77048,   76647,   77833,   78253,   78345,\n",
       "         78266,   78985,   79224,   79101,   79834,   79703,   80245,\n",
       "         79816,   79830,   79760,   79438,   79972,   79972,   79466,\n",
       "         79343,   78753,   78487,   78659,   78400,   78090,   77723,\n",
       "         76940,   76995,   76693,   75812,   75232,   75182,   75009,\n",
       "         74176,   73549,   72582,   72038,   71691,   70884,   70175,\n",
       "         69502,   68426,   67972,   67464,   66436,   65355,   64569,\n",
       "         63118,   63364,   62000,   61065,   59846,   59184,   58408,\n",
       "         57381,   56651,   55795,   54707,   54081,   53015,   51995,\n",
       "         51000,   49697,   48852, 1585209], dtype=uint64)"
      ]
     },
     "execution_count": 8,
     "metadata": {},
     "output_type": "execute_result"
    }
   ],
   "source": [
    "np.asarray(hist)"
   ]
  },
  {
   "cell_type": "markdown",
   "metadata": {},
   "source": [
    "#### Boost histogram in 1D: Axis vector"
   ]
  },
  {
   "cell_type": "code",
   "execution_count": 9,
   "metadata": {},
   "outputs": [
    {
     "name": "stdout",
     "output_type": "stream",
     "text": [
      "97.6 ms ± 9.47 ms per loop (mean ± std. dev. of 7 runs, 10 loops each)\n"
     ]
    }
   ],
   "source": [
    "%%timeit\n",
    "hist = bh.hist.regular_int([bh.axis.regular(bins[0], *ranges[0])])\n",
    "hist(vals1d)"
   ]
  },
  {
   "cell_type": "code",
   "execution_count": 10,
   "metadata": {},
   "outputs": [
    {
     "data": {
      "text/plain": [
       "array([1587613,   49139,   49761,   50805,   51651,   52915,   53467,\n",
       "         54582,   55463,   56731,   57515,   58204,   59331,   60454,\n",
       "         61279,   61484,   63097,   63870,   64696,   65378,   66135,\n",
       "         66613,   68022,   68356,   69019,   70288,   70713,   71097,\n",
       "         72622,   72585,   73233,   73779,   74213,   74787,   75335,\n",
       "         75858,   76667,   77048,   76647,   77833,   78253,   78345,\n",
       "         78266,   78985,   79224,   79101,   79834,   79703,   80245,\n",
       "         79816,   79830,   79760,   79438,   79972,   79972,   79466,\n",
       "         79343,   78753,   78487,   78659,   78400,   78090,   77723,\n",
       "         76940,   76995,   76693,   75812,   75232,   75182,   75009,\n",
       "         74176,   73549,   72582,   72038,   71691,   70884,   70175,\n",
       "         69502,   68426,   67972,   67464,   66436,   65355,   64569,\n",
       "         63118,   63364,   62000,   61065,   59846,   59184,   58408,\n",
       "         57381,   56651,   55795,   54707,   54081,   53015,   51995,\n",
       "         51000,   49697,   48852, 1585209], dtype=uint64)"
      ]
     },
     "execution_count": 10,
     "metadata": {},
     "output_type": "execute_result"
    }
   ],
   "source": [
    "hist = bh.hist.regular_int([bh.axis.regular(bins[0], *ranges[0])])\n",
    "hist(vals1d)\n",
    "np.asarray(hist)"
   ]
  },
  {
   "cell_type": "markdown",
   "metadata": {},
   "source": [
    "#### Boost histogram in 1D: Dense Tuple"
   ]
  },
  {
   "cell_type": "code",
   "execution_count": 11,
   "metadata": {},
   "outputs": [
    {
     "name": "stdout",
     "output_type": "stream",
     "text": [
      "94.6 ms ± 4.27 ms per loop (mean ± std. dev. of 7 runs, 10 loops each)\n"
     ]
    }
   ],
   "source": [
    "%%timeit\n",
    "hist = bh.hist.regular_int_1d((bh.axis.regular(bins[0], *ranges[0]),))\n",
    "hist(vals1d)"
   ]
  },
  {
   "cell_type": "code",
   "execution_count": 12,
   "metadata": {},
   "outputs": [
    {
     "data": {
      "text/plain": [
       "array([1587613,   49139,   49761,   50805,   51651,   52915,   53467,\n",
       "         54582,   55463,   56731,   57515,   58204,   59331,   60454,\n",
       "         61279,   61484,   63097,   63870,   64696,   65378,   66135,\n",
       "         66613,   68022,   68356,   69019,   70288,   70713,   71097,\n",
       "         72622,   72585,   73233,   73779,   74213,   74787,   75335,\n",
       "         75858,   76667,   77048,   76647,   77833,   78253,   78345,\n",
       "         78266,   78985,   79224,   79101,   79834,   79703,   80245,\n",
       "         79816,   79830,   79760,   79438,   79972,   79972,   79466,\n",
       "         79343,   78753,   78487,   78659,   78400,   78090,   77723,\n",
       "         76940,   76995,   76693,   75812,   75232,   75182,   75009,\n",
       "         74176,   73549,   72582,   72038,   71691,   70884,   70175,\n",
       "         69502,   68426,   67972,   67464,   66436,   65355,   64569,\n",
       "         63118,   63364,   62000,   61065,   59846,   59184,   58408,\n",
       "         57381,   56651,   55795,   54707,   54081,   53015,   51995,\n",
       "         51000,   49697,   48852, 1585209], dtype=uint64)"
      ]
     },
     "execution_count": 12,
     "metadata": {},
     "output_type": "execute_result"
    }
   ],
   "source": [
    "hist = bh.hist.regular_int_1d((bh.axis.regular(bins[0], *ranges[0]),))\n",
    "hist(vals1d)\n",
    "np.asarray(hist)"
   ]
  },
  {
   "cell_type": "markdown",
   "metadata": {},
   "source": [
    "#### Boost histogram in 1D: Dense Tuple (no overflow/underflow)"
   ]
  },
  {
   "cell_type": "code",
   "execution_count": 13,
   "metadata": {},
   "outputs": [
    {
     "name": "stdout",
     "output_type": "stream",
     "text": [
      "87 ms ± 4.5 ms per loop (mean ± std. dev. of 7 runs, 10 loops each)\n"
     ]
    }
   ],
   "source": [
    "%%timeit\n",
    "hist = bh.hist.regular_int_noflow_1d((bh.axis.regular_noflow(bins[0], *ranges[0]),))\n",
    "hist(vals1d)"
   ]
  },
  {
   "cell_type": "code",
   "execution_count": 14,
   "metadata": {},
   "outputs": [
    {
     "data": {
      "text/plain": [
       "array([49139, 49761, 50805, 51651, 52915, 53467, 54582, 55463, 56731,\n",
       "       57515, 58204, 59331, 60454, 61279, 61484, 63097, 63870, 64696,\n",
       "       65378, 66135, 66613, 68022, 68356, 69019, 70288, 70713, 71097,\n",
       "       72622, 72585, 73233, 73779, 74213, 74787, 75335, 75858, 76667,\n",
       "       77048, 76647, 77833, 78253, 78345, 78266, 78985, 79224, 79101,\n",
       "       79834, 79703, 80245, 79816, 79830, 79760, 79438, 79972, 79972,\n",
       "       79466, 79343, 78753, 78487, 78659, 78400, 78090, 77723, 76940,\n",
       "       76995, 76693, 75812, 75232, 75182, 75009, 74176, 73549, 72582,\n",
       "       72038, 71691, 70884, 70175, 69502, 68426, 67972, 67464, 66436,\n",
       "       65355, 64569, 63118, 63364, 62000, 61065, 59846, 59184, 58408,\n",
       "       57381, 56651, 55795, 54707, 54081, 53015, 51995, 51000, 49697,\n",
       "       48852], dtype=uint64)"
      ]
     },
     "execution_count": 14,
     "metadata": {},
     "output_type": "execute_result"
    }
   ],
   "source": [
    "hist = bh.hist.regular_int_noflow_1d((bh.axis.regular_noflow(bins[0], *ranges[0]),))\n",
    "hist(vals1d)\n",
    "np.asarray(hist)"
   ]
  },
  {
   "cell_type": "markdown",
   "metadata": {},
   "source": [
    "---"
   ]
  },
  {
   "cell_type": "markdown",
   "metadata": {},
   "source": [
    "#### Traditional 2D Numpy histogram\n",
    "\n",
    "Not as well optimized for regular filling."
   ]
  },
  {
   "cell_type": "code",
   "execution_count": 15,
   "metadata": {},
   "outputs": [
    {
     "name": "stdout",
     "output_type": "stream",
     "text": [
      "134 ms ± 9.86 ms per loop (mean ± std. dev. of 7 runs, 10 loops each)\n"
     ]
    }
   ],
   "source": [
    "%%timeit\n",
    "H, *ledges = np.histogram2d(*vals, bins=bins, range=ranges)"
   ]
  },
  {
   "cell_type": "code",
   "execution_count": 16,
   "metadata": {},
   "outputs": [
    {
     "data": {
      "text/plain": [
       "array([[23., 21., 26., ..., 28., 36., 26.],\n",
       "       [17., 33., 30., ..., 23., 16., 22.],\n",
       "       [21., 22., 29., ..., 22., 16., 26.],\n",
       "       ...,\n",
       "       [23., 27., 22., ..., 30., 22., 23.],\n",
       "       [17., 32., 22., ..., 19., 29., 25.],\n",
       "       [20., 38., 25., ..., 24., 13., 20.]])"
      ]
     },
     "execution_count": 16,
     "metadata": {},
     "output_type": "execute_result"
    }
   ],
   "source": [
    "np.histogram2d(*vals, bins=bins, range=ranges)[0]"
   ]
  },
  {
   "cell_type": "markdown",
   "metadata": {},
   "source": [
    "#### Boost histogram in 2D: Axis vector"
   ]
  },
  {
   "cell_type": "code",
   "execution_count": 17,
   "metadata": {},
   "outputs": [
    {
     "name": "stdout",
     "output_type": "stream",
     "text": [
      "18.6 ms ± 732 µs per loop (mean ± std. dev. of 7 runs, 100 loops each)\n"
     ]
    }
   ],
   "source": [
    "%%timeit\n",
    "hist = bh.hist.regular_int([bh.axis.regular(bins[0], *ranges[0]),\n",
    "                            bh.axis.regular(bins[1], *ranges[1])])\n",
    "hist(*vals)"
   ]
  },
  {
   "cell_type": "code",
   "execution_count": 18,
   "metadata": {},
   "outputs": [
    {
     "data": {
      "text/plain": [
       "array([[25628,   767,   817, ...,   816,   727, 25266],\n",
       "       [  779,    23,    21, ...,    36,    26,   810],\n",
       "       [  794,    17,    33, ...,    16,    22,   799],\n",
       "       ...,\n",
       "       [  793,    17,    32, ...,    29,    25,   832],\n",
       "       [  749,    20,    38, ...,    13,    20,   735],\n",
       "       [25253,   748,   788, ...,   796,   805, 25147]], dtype=uint64)"
      ]
     },
     "execution_count": 18,
     "metadata": {},
     "output_type": "execute_result"
    }
   ],
   "source": [
    "hist = bh.hist.regular_int([bh.axis.regular(bins[0], *ranges[0]),\n",
    "                            bh.axis.regular(bins[1], *ranges[1])])\n",
    "hist(*vals)\n",
    "np.asarray(hist)"
   ]
  },
  {
   "cell_type": "markdown",
   "metadata": {},
   "source": [
    "#### Boost histogram in 2D: Axis Tuple"
   ]
  },
  {
   "cell_type": "code",
   "execution_count": 19,
   "metadata": {},
   "outputs": [
    {
     "name": "stdout",
     "output_type": "stream",
     "text": [
      "19 ms ± 809 µs per loop (mean ± std. dev. of 7 runs, 100 loops each)\n"
     ]
    }
   ],
   "source": [
    "%%timeit\n",
    "hist = bh.hist.regular_int_2d((bh.axis.regular(bins[0], *ranges[0]),\n",
    "                               bh.axis.regular(bins[1], *ranges[1])))\n",
    "hist(*vals)"
   ]
  },
  {
   "cell_type": "code",
   "execution_count": 20,
   "metadata": {},
   "outputs": [
    {
     "data": {
      "text/plain": [
       "array([[25628,   767,   817, ...,   816,   727, 25266],\n",
       "       [  779,    23,    21, ...,    36,    26,   810],\n",
       "       [  794,    17,    33, ...,    16,    22,   799],\n",
       "       ...,\n",
       "       [  793,    17,    32, ...,    29,    25,   832],\n",
       "       [  749,    20,    38, ...,    13,    20,   735],\n",
       "       [25253,   748,   788, ...,   796,   805, 25147]], dtype=uint64)"
      ]
     },
     "execution_count": 20,
     "metadata": {},
     "output_type": "execute_result"
    }
   ],
   "source": [
    "hist = bh.hist.regular_int_2d((bh.axis.regular(bins[0], *ranges[0]),\n",
    "                               bh.axis.regular(bins[1], *ranges[1])))\n",
    "hist(*vals)\n",
    "np.asarray(hist)"
   ]
  },
  {
   "cell_type": "markdown",
   "metadata": {},
   "source": [
    "#### Boost histogram in 2D: Axis Tuple noflow"
   ]
  },
  {
   "cell_type": "code",
   "execution_count": 21,
   "metadata": {},
   "outputs": [
    {
     "name": "stdout",
     "output_type": "stream",
     "text": [
      "18.4 ms ± 1.33 ms per loop (mean ± std. dev. of 7 runs, 100 loops each)\n"
     ]
    }
   ],
   "source": [
    "%%timeit\n",
    "hist = bh.hist.regular_int_noflow_2d((bh.axis.regular_noflow(bins[0], *ranges[0]),\n",
    "                               bh.axis.regular_noflow(bins[1], *ranges[1])))\n",
    "hist(*vals)"
   ]
  },
  {
   "cell_type": "code",
   "execution_count": 22,
   "metadata": {},
   "outputs": [
    {
     "data": {
      "text/plain": [
       "array([[23, 21, 26, ..., 28, 36, 26],\n",
       "       [17, 33, 30, ..., 23, 16, 22],\n",
       "       [21, 22, 29, ..., 22, 16, 26],\n",
       "       ...,\n",
       "       [23, 27, 22, ..., 30, 22, 23],\n",
       "       [17, 32, 22, ..., 19, 29, 25],\n",
       "       [20, 38, 25, ..., 24, 13, 20]], dtype=uint64)"
      ]
     },
     "execution_count": 22,
     "metadata": {},
     "output_type": "execute_result"
    }
   ],
   "source": [
    "hist = bh.hist.regular_int_noflow_2d((bh.axis.regular_noflow(bins[0], *ranges[0]),\n",
    "                               bh.axis.regular_noflow(bins[1], *ranges[1])))\n",
    "hist(*vals)\n",
    "np.asarray(hist)"
   ]
  },
  {
   "cell_type": "code",
   "execution_count": null,
   "metadata": {},
   "outputs": [],
   "source": []
  }
 ],
 "metadata": {
  "kernelspec": {
   "display_name": "Python 3",
   "language": "python",
   "name": "python3"
  },
  "language_info": {
   "codemirror_mode": {
    "name": "ipython",
    "version": 3
   },
   "file_extension": ".py",
   "mimetype": "text/x-python",
   "name": "python",
   "nbconvert_exporter": "python",
   "pygments_lexer": "ipython3",
   "version": "3.7.2"
  }
 },
 "nbformat": 4,
 "nbformat_minor": 2
}
