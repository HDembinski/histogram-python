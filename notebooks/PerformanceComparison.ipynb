{
 "cells": [
  {
   "cell_type": "code",
   "execution_count": 1,
   "metadata": {},
   "outputs": [],
   "source": [
    "import boost_histogram as bh\n",
    "import numpy as np\n",
    "from numpy.testing import assert_allclose"
   ]
  },
  {
   "cell_type": "code",
   "execution_count": 2,
   "metadata": {},
   "outputs": [
    {
     "name": "stdout",
     "output_type": "stream",
     "text": [
      "threads: 4\n"
     ]
    }
   ],
   "source": [
    "import os\n",
    "threads = os.cpu_count()\n",
    "print(f\"threads: {threads}\")"
   ]
  },
  {
   "cell_type": "markdown",
   "metadata": {},
   "source": [
    "Threaded fill test setup"
   ]
  },
  {
   "cell_type": "code",
   "execution_count": 3,
   "metadata": {},
   "outputs": [],
   "source": [
    "from concurrent.futures import ThreadPoolExecutor\n",
    "\n",
    "def chunks(N, vals):\n",
    "    \"Chunks vals into N chunks, returns chunks\"\n",
    "    frac = len(vals)//N\n",
    "    for n in range(N):\n",
    "        yield vals[n*frac:(n+1)*frac]\n",
    "\n",
    "def threaded_fill(hist, threads, *data):\n",
    "    def fun(*args):\n",
    "        h = hist.copy().reset()\n",
    "        return h.fill(*args)\n",
    "    \n",
    "    chunks_list = [chunks(threads, d) for d in data]\n",
    "    \n",
    "    with ThreadPoolExecutor(threads) as pool:\n",
    "        results = pool.map(fun, *chunks_list)\n",
    "        \n",
    "    for h in results:\n",
    "        hist += h"
   ]
  },
  {
   "cell_type": "markdown",
   "metadata": {},
   "source": [
    "### Testing setup\n",
    "\n",
    "This is just a simple 1D and 2D dataset to use for performance runs. The testing setup is the same as \"MBP\" in [this post](https://iscinumpy.gitlab.io/post/histogram-speeds-in-python/), a dual-core MacBook Pro 2015."
   ]
  },
  {
   "cell_type": "code",
   "execution_count": 4,
   "metadata": {},
   "outputs": [],
   "source": [
    "bins=(100, 100)\n",
    "ranges=((-1,1),(-1,1))\n",
    "bins = np.asarray(bins).astype(np.int64)\n",
    "ranges = np.asarray(ranges).astype(np.float64)\n",
    "    \n",
    "edges = (np.linspace(*ranges[0,:], bins[0]+1),\n",
    "         np.linspace(*ranges[1,:], bins[1]+1))"
   ]
  },
  {
   "cell_type": "code",
   "execution_count": 5,
   "metadata": {},
   "outputs": [],
   "source": [
    "np.random.seed(42)\n",
    "vals = np.random.normal(size=[2, 1_000_000]).astype(np.float32)\n",
    "vals1d = np.random.normal(size=[10_000_000]).astype(np.float32)"
   ]
  },
  {
   "cell_type": "markdown",
   "metadata": {},
   "source": [
    "#### Traditional 1D Numpy Histogram\n",
    "\n",
    "This is reasonably optimized; it should provide good perforance."
   ]
  },
  {
   "cell_type": "code",
   "execution_count": 6,
   "metadata": {},
   "outputs": [],
   "source": [
    "answer, e = np.histogram(vals1d, bins=bins[0], range=ranges[0])"
   ]
  },
  {
   "cell_type": "code",
   "execution_count": 7,
   "metadata": {},
   "outputs": [
    {
     "name": "stdout",
     "output_type": "stream",
     "text": [
      "191 ms ± 93.2 ms per loop (mean ± std. dev. of 7 runs, 10 loops each)\n"
     ]
    }
   ],
   "source": [
    "%%timeit\n",
    "h, _ = np.histogram(vals1d, bins=bins[0], range=ranges[0])\n",
    "assert_allclose(h, answer, atol=1)"
   ]
  },
  {
   "cell_type": "markdown",
   "metadata": {},
   "source": [
    "#### Boost histogram 1D\n"
   ]
  },
  {
   "cell_type": "code",
   "execution_count": 8,
   "metadata": {},
   "outputs": [
    {
     "name": "stdout",
     "output_type": "stream",
     "text": [
      "89.7 ms ± 659 µs per loop (mean ± std. dev. of 7 runs, 10 loops each)\n"
     ]
    }
   ],
   "source": [
    "%%timeit\n",
    "hist = bh.Histogram(bh.axis.Regular(bins[0], *ranges[0]), storage=bh.storage.Int64())\n",
    "hist.fill(vals1d)\n",
    "assert_allclose(hist, answer, atol=1)"
   ]
  },
  {
   "cell_type": "markdown",
   "metadata": {},
   "source": [
    "#### Boost histogram 1D numpy clone"
   ]
  },
  {
   "cell_type": "code",
   "execution_count": 9,
   "metadata": {},
   "outputs": [
    {
     "name": "stdout",
     "output_type": "stream",
     "text": [
      "93.3 ms ± 1.15 ms per loop (mean ± std. dev. of 7 runs, 10 loops each)\n"
     ]
    }
   ],
   "source": [
    "%%timeit\n",
    "h, _ = bh.numpy.histogram(vals1d, bins=bins[0], range=ranges[0])\n",
    "assert_allclose(h, answer, atol=1)"
   ]
  },
  {
   "cell_type": "markdown",
   "metadata": {},
   "source": [
    "#### Boost histogram in 1D, threaded"
   ]
  },
  {
   "cell_type": "code",
   "execution_count": 10,
   "metadata": {},
   "outputs": [
    {
     "name": "stdout",
     "output_type": "stream",
     "text": [
      "39.9 ms ± 297 µs per loop (mean ± std. dev. of 7 runs, 10 loops each)\n"
     ]
    }
   ],
   "source": [
    "%%timeit\n",
    "hist = bh.Histogram(bh.axis.Regular(bins[0], *ranges[0]), storage=bh.storage.Int64())\n",
    "\n",
    "threaded_fill(hist, threads, vals1d)\n",
    "assert_allclose(hist, answer, atol=1)"
   ]
  },
  {
   "cell_type": "markdown",
   "metadata": {},
   "source": [
    "---"
   ]
  },
  {
   "cell_type": "markdown",
   "metadata": {},
   "source": [
    "#### Traditional 2D Numpy histogram\n",
    "\n",
    "Not as well optimized for regular filling."
   ]
  },
  {
   "cell_type": "code",
   "execution_count": 11,
   "metadata": {},
   "outputs": [],
   "source": [
    "answer2, *ledges = np.histogram2d(*vals, bins=bins, range=ranges)"
   ]
  },
  {
   "cell_type": "code",
   "execution_count": 12,
   "metadata": {},
   "outputs": [
    {
     "name": "stdout",
     "output_type": "stream",
     "text": [
      "103 ms ± 807 µs per loop (mean ± std. dev. of 7 runs, 10 loops each)\n"
     ]
    }
   ],
   "source": [
    "%%timeit\n",
    "H, *ledges = np.histogram2d(*vals, bins=bins, range=ranges)\n",
    "assert_allclose(H, answer2, atol=1)"
   ]
  },
  {
   "cell_type": "markdown",
   "metadata": {},
   "source": [
    "#### Boost histogram in 2D"
   ]
  },
  {
   "cell_type": "code",
   "execution_count": 13,
   "metadata": {},
   "outputs": [
    {
     "name": "stdout",
     "output_type": "stream",
     "text": [
      "18.9 ms ± 417 µs per loop (mean ± std. dev. of 7 runs, 100 loops each)\n"
     ]
    }
   ],
   "source": [
    "%%timeit\n",
    "hist = bh.Histogram(bh.axis.Regular(bins[0], *ranges[0]),\n",
    "                    bh.axis.Regular(bins[1], *ranges[1]))\n",
    "hist.fill(*vals)\n",
    "assert_allclose(hist, answer2, atol=1)"
   ]
  },
  {
   "cell_type": "markdown",
   "metadata": {},
   "source": [
    "#### Boost histogram 2D numpy clone"
   ]
  },
  {
   "cell_type": "code",
   "execution_count": 14,
   "metadata": {},
   "outputs": [
    {
     "name": "stdout",
     "output_type": "stream",
     "text": [
      "19.7 ms ± 548 µs per loop (mean ± std. dev. of 7 runs, 10 loops each)\n"
     ]
    }
   ],
   "source": [
    "%%timeit\n",
    "H, *ledges = bh.numpy.histogram2d(*vals, bins=bins, range=ranges)\n",
    "assert_allclose(H, answer2, atol=1)"
   ]
  },
  {
   "cell_type": "markdown",
   "metadata": {},
   "source": [
    "#### Boost histogram in 2D, threaded"
   ]
  },
  {
   "cell_type": "code",
   "execution_count": 15,
   "metadata": {},
   "outputs": [
    {
     "name": "stdout",
     "output_type": "stream",
     "text": [
      "9.4 ms ± 86.5 µs per loop (mean ± std. dev. of 7 runs, 100 loops each)\n"
     ]
    }
   ],
   "source": [
    "%%timeit\n",
    "hist = bh.Histogram(bh.axis.Regular(bins[0], *ranges[0]),\n",
    "                    bh.axis.Regular(bins[1], *ranges[1]))\n",
    "\n",
    "threaded_fill(hist, threads, *vals)\n",
    "assert_allclose(hist, answer2, atol=1)"
   ]
  },
  {
   "cell_type": "code",
   "execution_count": null,
   "metadata": {},
   "outputs": [],
   "source": []
  }
 ],
 "metadata": {
  "kernelspec": {
   "display_name": "boost-hist",
   "language": "python",
   "name": "boost-hist"
  },
  "language_info": {
   "codemirror_mode": {
    "name": "ipython",
    "version": 3
   },
   "file_extension": ".py",
   "mimetype": "text/x-python",
   "name": "python",
   "nbconvert_exporter": "python",
   "pygments_lexer": "ipython3",
   "version": "3.7.5"
  }
 },
 "nbformat": 4,
 "nbformat_minor": 4
}
