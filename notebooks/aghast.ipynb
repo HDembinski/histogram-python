{
 "cells": [
  {
   "cell_type": "markdown",
   "metadata": {},
   "source": [
    "# Aghast Example\n",
    "\n",
    "To run this example, an `dev-environment.yml` similar to this one could be used:\n",
    "\n",
    "```yaml\n",
    "name: aghast\n",
    "channels:\n",
    "  - conda-forge\n",
    "dependencies:\n",
    "  - root >=6.20.0\n",
    "  - boost-histogram >=0.6.2\n",
    "  - matplotlib >=3.1\n",
    "  - setuptools >=42\n",
    "  - setuptools_scm >=3.4\n",
    "  - flatbuffers >=1.8.0\n",
    "  - aghast >0.2.1   # note that the latest version is aghast ==0.2.1\n",
    "  - uproot >=3.11.3\n",
    "  - uproot-methods >=0.7.3\n",
    "```"
   ]
  },
  {
   "cell_type": "code",
   "execution_count": 1,
   "metadata": {},
   "outputs": [],
   "source": [
    "import numpy as np\n",
    "import matplotlib.pyplot as plt\n",
    "import numpy as np\n",
    "import os\n",
    "import boost_histogram as bh\n",
    "import uproot\n",
    "import aghast"
   ]
  },
  {
   "cell_type": "markdown",
   "metadata": {},
   "source": [
    "## Boost-Histogram to ROOT"
   ]
  },
  {
   "cell_type": "code",
   "execution_count": 4,
   "metadata": {},
   "outputs": [
    {
     "data": {
      "text/plain": [
       "<ROOT.TH1D object (\"root_hist\") at 0x7f915d6c6ec0>"
      ]
     },
     "execution_count": 4,
     "metadata": {},
     "output_type": "execute_result"
    },
    {
     "name": "stderr",
     "output_type": "stream",
     "text": [
      "Warning in <TROOT::Append>: Replacing existing TH1: root_hist (Potential memory leak).\n"
     ]
    }
   ],
   "source": [
    "h = bh.Histogram(bh.axis.Regular(15, -3, 3))\n",
    "h.fill(np.random.normal(size=1_000))\n",
    "w, data = h.to_numpy()\n",
    "ghastly_hist = aghast.from_numpy((w, data))\n",
    "# ghastly_hist.dump()\n",
    "root_hist = aghast.to_root(ghastly_hist, \"root_hist\")\n",
    "root_hist"
   ]
  },
  {
   "cell_type": "code",
   "execution_count": 5,
   "metadata": {},
   "outputs": [
    {
     "name": "stdout",
     "output_type": "stream",
     "text": [
      "See What's in the ROOT File!\n",
      "                 0                                                         186.9\n",
      "                 +-------------------------------------------------------------+\n",
      "[-inf, -3)   0   |                                                             |\n",
      "[-3, -2.6)   2   |*                                                            |\n",
      "[-2.6, -2.2) 7   |**                                                           |\n",
      "[-2.2, -1.8) 31  |**********                                                   |\n",
      "[-1.8, -1.4) 45  |***************                                              |\n",
      "[-1.4, -1)   64  |*********************                                        |\n",
      "[-1, -0.6)   118 |***************************************                      |\n",
      "[-0.6, -0.2) 132 |*******************************************                  |\n",
      "[-0.2, 0.2)  178 |**********************************************************   |\n",
      "[0.2, 0.6)   148 |************************************************             |\n",
      "[0.6, 1)     116 |**************************************                       |\n",
      "[1, 1.4)     72  |***********************                                      |\n",
      "[1.4, 1.8)   55  |******************                                           |\n",
      "[1.8, 2.2)   18  |******                                                       |\n",
      "[2.2, 2.6)   11  |****                                                         |\n",
      "[2.6, 3)     2   |*                                                            |\n",
      "[3, inf]     0   |                                                             |\n",
      "                 +-------------------------------------------------------------+\n"
     ]
    }
   ],
   "source": [
    "root_file = uproot.recreate(\"demo_root_file.root\")\n",
    "root_file['words'] = 'See What\\'s in the ROOT File!'\n",
    "root_file['hist'] = np.histogram(data[:-1], bins=data, weights=w)\n",
    "root_file2 = uproot.open(\"demo_root_file.root\")\n",
    "print(root_file2['words'])\n",
    "root_file2['hist'].show()\n",
    "os.remove(\"./demo_root_file.root\")"
   ]
  },
  {
   "cell_type": "markdown",
   "metadata": {},
   "source": [
    "## ROOT to Boost-Histogram"
   ]
  },
  {
   "cell_type": "code",
   "execution_count": null,
   "metadata": {},
   "outputs": [],
   "source": []
  },
  {
   "cell_type": "code",
   "execution_count": null,
   "metadata": {},
   "outputs": [],
   "source": []
  }
 ],
 "metadata": {
  "kernelspec": {
   "display_name": "aghast",
   "language": "python",
   "name": "aghast"
  },
  "language_info": {
   "codemirror_mode": {
    "name": "ipython",
    "version": 3
   },
   "file_extension": ".py",
   "mimetype": "text/x-python",
   "name": "python",
   "nbconvert_exporter": "python",
   "pygments_lexer": "ipython3",
   "version": "3.8.2"
  }
 },
 "nbformat": 4,
 "nbformat_minor": 4
}
