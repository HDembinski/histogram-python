{
 "cells": [
  {
   "cell_type": "markdown",
   "metadata": {},
   "source": [
    "# Aghast Example\n",
    "\n",
    "To run this example, an `dev-environment.yml` similar to this one could be used:\n",
    "\n",
    "```yaml\n",
    "name: aghast\n",
    "channels:\n",
    "  - conda-forge\n",
    "dependencies:\n",
    "  - root >=6.20.0\n",
    "  - boost-histogram >=0.6.2\n",
    "  - matplotlib >=3.1\n",
    "  - pytest >=5\n",
    "  - setuptools >=42\n",
    "  - setuptools_scm >=3.4\n",
    "  - flatbuffers >=1.8.0\n",
    "  - aghast >0.2.1   # note that the latest version is aghast ==0.2.1\n",
    "  - uproot >=3.11.3\n",
    "  - uproot-methods >=0.7.3\n",
    "```"
   ]
  },
  {
   "cell_type": "code",
   "execution_count": 1,
   "metadata": {},
   "outputs": [
    {
     "name": "stdout",
     "output_type": "stream",
     "text": [
      "Welcome to JupyROOT 6.20/04\n"
     ]
    }
   ],
   "source": [
    "import numpy as np\n",
    "import boost_histogram as bh\n",
    "import ROOT\n",
    "import aghast\n",
    "import uproot\n",
    "import os\n",
    "import matplotlib.pyplot as plt"
   ]
  },
  {
   "cell_type": "markdown",
   "metadata": {},
   "source": [
    "[ROOT](https://root.cern/) is a modular scientific software toolkit. It provides all the functionalities needed to deal with big data processing, statistical analysis, visualisation and storage. Format conversion between ROOT and boost-histogram often occurs in the work of Scikit-HEP. [Aghast](https://github.com/scikit-hep/aghast) is a histogramming library to provide better communication between histogramming libraries, instead of filling or plotting them. Here, you can see how to convert between ROOT and boost-histogram by Aghast."
   ]
  },
  {
   "cell_type": "markdown",
   "metadata": {},
   "source": [
    "## boost-histogram to ROOT"
   ]
  },
  {
   "cell_type": "markdown",
   "metadata": {},
   "source": [
    "If you want a ROOT histogram from boost-histogram object, convert the boost-histogram object to an Aghast histogram at first, and then convert the Aghast histogram to ROOT histogram: "
   ]
  },
  {
   "cell_type": "code",
   "execution_count": 2,
   "metadata": {},
   "outputs": [
    {
     "data": {
      "text/plain": [
       "<ROOT.TH1D object (\"root_hist\") at 0x7fccfcbec850>"
      ]
     },
     "execution_count": 2,
     "metadata": {},
     "output_type": "execute_result"
    }
   ],
   "source": [
    "h = bh.Histogram(bh.axis.Regular(15, -3, 3))\n",
    "h.fill(np.random.normal(size=1_000_000))\n",
    "w, data = h.to_numpy()\n",
    "\n",
    "ghastly_hist = aghast.from_numpy((w, data))\n",
    "# ghastly_hist.dump()\n",
    "\n",
    "root_hist = aghast.to_root(ghastly_hist, \"root_hist\")\n",
    "root_hist"
   ]
  },
  {
   "cell_type": "markdown",
   "metadata": {},
   "source": [
    "If you want to save and load the ROOT histogram, use [uproot](https://github.com/scikit-hep/uproot) to read and write:"
   ]
  },
  {
   "cell_type": "code",
   "execution_count": 3,
   "metadata": {},
   "outputs": [
    {
     "name": "stdout",
     "output_type": "stream",
     "text": [
      "See What's in the ROOT File!\n",
      "                        0                                             1.6622e+05\n",
      "                        +------------------------------------------------------+\n",
      "[-inf, -3)   0          |                                                      |\n",
      "[-3, -2.6)   3427       |*                                                     |\n",
      "[-2.6, -2.2) 9154       |***                                                   |\n",
      "[-2.2, -1.8) 21842      |*******                                               |\n",
      "[-1.8, -1.4) 44829      |***************                                       |\n",
      "[-1.4, -1)   78020      |*************************                             |\n",
      "[-1, -0.6)   1.1568e+05 |**************************************                |\n",
      "[-0.6, -0.2) 1.47e+05   |************************************************      |\n",
      "[-0.2, 0.2)  1.5830e+05 |***************************************************   |\n",
      "[0.2, 0.6)   1.4594e+05 |***********************************************       |\n",
      "[0.6, 1)     1.1604e+05 |**************************************                |\n",
      "[1, 1.4)     77357      |*************************                             |\n",
      "[1.4, 1.8)   44980      |***************                                       |\n",
      "[1.8, 2.2)   22041      |*******                                               |\n",
      "[2.2, 2.6)   9207       |***                                                   |\n",
      "[2.6, 3)     3428       |*                                                     |\n",
      "[3, inf]     0          |                                                      |\n",
      "                        +------------------------------------------------------+\n"
     ]
    }
   ],
   "source": [
    "root_file = uproot.recreate(\"demo_root_file.root\")\n",
    "root_file['words'] = 'See What\\'s in the ROOT File!'\n",
    "root_file['hist'] = np.histogram(h.axes.centers[0], bins=data, weights=w)\n",
    "\n",
    "root_file2 = uproot.open(\"demo_root_file.root\")\n",
    "print(root_file2['words'])\n",
    "root_file2['hist'].show()\n",
    "\n",
    "if os.path.exists(\"demo_root_file.root\"):\n",
    "    os.remove(\"./demo_root_file.root\")"
   ]
  },
  {
   "cell_type": "markdown",
   "metadata": {},
   "source": [
    "## ROOT to boost-histogram\n",
    "\n",
    "Similarly, you can convert a ROOT histogram to boost-histogram histogram. *Note that you cannot get access to the the centers of Aghast axes edges, so we need to calculate it manually.*"
   ]
  },
  {
   "cell_type": "code",
   "execution_count": 4,
   "metadata": {},
   "outputs": [
    {
     "data": {
      "text/plain": [
       "<BarContainer object of 30 artists>"
      ]
     },
     "execution_count": 4,
     "metadata": {},
     "output_type": "execute_result"
    },
    {
     "data": {
      "image/png": "[encoded data removed]",
      "text/plain": [
       "<Figure size 432x288 with 1 Axes>"
      ]
     },
     "metadata": {
      "needs_background": "light"
     },
     "output_type": "display_data"
    }
   ],
   "source": [
    "ghastly_hist = aghast.from_root(root_hist)\n",
    "w, data = aghast.to_numpy(ghastly_hist)\n",
    "\n",
    "h = bh.Histogram(bh.axis.Regular(30, -3, 3))\n",
    "centers = [(data[idx] + data[idx+1]) / 2 for idx in range(len(data) - 1)]\n",
    "h.fill(centers, weight=w)\n",
    "plt.bar(h.axes[0].centers, h.view(), width=h.axes[0].widths)"
   ]
  }
 ],
 "metadata": {
  "kernelspec": {
   "display_name": "aghast",
   "language": "python",
   "name": "aghast"
  },
  "language_info": {
   "codemirror_mode": {
    "name": "ipython",
    "version": 3
   },
   "file_extension": ".py",
   "mimetype": "text/x-python",
   "name": "python",
   "nbconvert_exporter": "python",
   "pygments_lexer": "ipython3",
   "version": "3.8.2"
  }
 },
 "nbformat": 4,
 "nbformat_minor": 4
}
